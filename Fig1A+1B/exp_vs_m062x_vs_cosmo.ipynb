{
 "cells": [
  {
   "cell_type": "code",
   "execution_count": 1,
   "id": "807d2d3f-dad2-43ff-a10c-9b4d91fb768b",
   "metadata": {},
   "outputs": [],
   "source": [
    "import pandas as pd\n",
    "import numpy as np\n",
    "from rdkit import Chem\n",
    "\n",
    "df2 = pd.read_csv('expdb_combisolvqm_overlapped.csv')\n",
    "dfp = pd.read_csv('expdb_qmdb_overlapped.csv')"
   ]
  },
  {
   "cell_type": "code",
   "execution_count": 2,
   "id": "7fd5eaf3-cf10-44af-a884-d0449733b53b",
   "metadata": {},
   "outputs": [
    {
     "name": "stdout",
     "output_type": "stream",
     "text": [
      "m062x: all\n",
      "5608\n",
      "0.6195449952448883\n",
      "0.8832646778983387\n",
      "Group II\n",
      "3195\n",
      "0.4149775691184142\n",
      "0.24770523561119803\n",
      "Group I\n",
      "2413\n",
      "0.890408205553253\n",
      "1.4851634376295069\n",
      "0.40041725000828843\n",
      "0.41617069969176074\n",
      "Group III\n",
      "841\n",
      "0.3897860110820452\n",
      "0.5347780775239794\n"
     ]
    }
   ],
   "source": [
    "print(\"m062x: all\")\n",
    "print(len(dfp))\n",
    "print(dfp.AE.mean())\n",
    "print(np.sqrt(dfp.SE.mean()))\n",
    "\n",
    "common_smiles =   list(set(list(dfp.concat_smiles))    & set(list(df2.concat_smiles)))\n",
    "\n",
    "print(\"Group II\")\n",
    "Group_II = dfp[~dfp.concat_smiles.isin(common_smiles)]\n",
    "print(len(Group_II))\n",
    "print(Group_II.AE.mean())\n",
    "print(Group_II.SE.mean())\n",
    "\n",
    "\n",
    "print(\"Group I\")\n",
    "Group_I = dfp[~dfp.concat_smiles.isin(Group_II.concat_smiles)]\n",
    "print(len(Group_I))\n",
    "print(dfp[dfp.concat_smiles.isin(Group_I.concat_smiles)].AE.mean())\n",
    "print(dfp[dfp.concat_smiles.isin(Group_I.concat_smiles)].SE.mean())\n",
    "print(df2[df2.concat_smiles.isin(Group_I.concat_smiles)].AE.mean())\n",
    "print(df2[df2.concat_smiles.isin(Group_I.concat_smiles)].SE.mean())\n",
    "\n",
    "\n",
    "print(\"Group III\")\n",
    "print(len(df2[~df2.concat_smiles.isin(common_smiles)]))\n",
    "print(df2[~df2.concat_smiles.isin(common_smiles)].AE.mean())\n",
    "print(df2[~df2.concat_smiles.isin(common_smiles)].SE.mean())"
   ]
  },
  {
   "cell_type": "code",
   "execution_count": 3,
   "id": "0a487558-e9f7-422c-9e73-76417de4e485",
   "metadata": {},
   "outputs": [
    {
     "data": {
      "text/plain": [
       "3254"
      ]
     },
     "execution_count": 3,
     "metadata": {},
     "output_type": "execute_result"
    }
   ],
   "source": [
    "len(df2)"
   ]
  },
  {
   "cell_type": "code",
   "execution_count": 4,
   "id": "f118a34e-a702-484c-b204-dd6bd6030e57",
   "metadata": {},
   "outputs": [
    {
     "data": {
      "text/plain": [
       "(2413, 2413)"
      ]
     },
     "execution_count": 4,
     "metadata": {},
     "output_type": "execute_result"
    }
   ],
   "source": [
    "dfp = dfp[dfp.concat_smiles.isin(common_smiles)].sort_values(by=['concat_smiles'])\n",
    "df2 = df2[df2.concat_smiles.isin(common_smiles)].sort_values(by=['concat_smiles'])\n",
    "len(dfp), len(df2)"
   ]
  },
  {
   "cell_type": "code",
   "execution_count": 5,
   "id": "f4cebded-daba-4123-a1c6-e1e5d55ad228",
   "metadata": {},
   "outputs": [
    {
     "data": {
      "text/plain": [
       "True"
      ]
     },
     "execution_count": 5,
     "metadata": {},
     "output_type": "execute_result"
    }
   ],
   "source": [
    "list(dfp.concat_smiles) == list(df2.concat_smiles)"
   ]
  },
  {
   "cell_type": "code",
   "execution_count": 6,
   "id": "f2161e55-7ae3-4f01-b13a-618829e1da84",
   "metadata": {},
   "outputs": [],
   "source": [
    "#df2['m062x'] = df['m062x']\n",
    "#df2['m062x'] = df.m062x\n",
    "df2['m062x'] = list(dfp['m062x'])"
   ]
  },
  {
   "cell_type": "code",
   "execution_count": 7,
   "id": "f8ac671c-1c37-4826-83dc-f5a5c8f33ff7",
   "metadata": {},
   "outputs": [],
   "source": [
    "df2 = df2[ list(set(list(df2.columns)) - set(['AE','SE','logS']))]"
   ]
  },
  {
   "cell_type": "code",
   "execution_count": 8,
   "id": "7d030e6f-4c52-4f21-9d17-89ee934686ed",
   "metadata": {},
   "outputs": [],
   "source": [
    "df2['AE_m062x'] = np.abs(df2['DGsolv'] - df2['m062x'])\n",
    "df2['AE_cosmo'] = np.abs(df2['DGsolv'] - df2['DGsolv_qm'])\n",
    "df2['AAE'] = np.abs(df2['AE_m062x'] - df2['AE_cosmo'])\n",
    "\n",
    "df2['SE_m062x'] = (df2['DGsolv'] - df2['m062x']) ** 2.0\n",
    "df2['SE_cosmo'] = (df2['DGsolv'] - df2['DGsolv_qm']) ** 2.0"
   ]
  },
  {
   "cell_type": "code",
   "execution_count": null,
   "id": "195ea2ef-269c-4f8f-bb6f-8f2dc99adfdb",
   "metadata": {},
   "outputs": [],
   "source": [
    "#df2[(df2.AE_m062x <= 0.2) | (df2.AE_cosmo <= 0.2)]\n",
    "#df2[df2.AE_m062x <= 0.2]\n",
    "df2[df2.AE_cosmo <= 0.2]"
   ]
  },
  {
   "cell_type": "code",
   "execution_count": null,
   "id": "6f466bb9-9bc5-4201-adfa-63271b3b3bdd",
   "metadata": {},
   "outputs": [],
   "source": [
    "df2 = df2.sort_values(by=['AE_m062x'], ascending = True)"
   ]
  },
  {
   "cell_type": "code",
   "execution_count": null,
   "id": "c8d3094a-929a-4faa-9fb2-c729efcf3459",
   "metadata": {},
   "outputs": [],
   "source": [
    "df2.AE_m062x.mean()"
   ]
  },
  {
   "cell_type": "code",
   "execution_count": null,
   "id": "c7954a17-f5ad-447b-b7f6-4021e1a3286d",
   "metadata": {},
   "outputs": [],
   "source": [
    "df2 = df2.sort_values(by=['AE_cosmo'], ascending = False)\n",
    "df2[df2.AE_m062x <= 0.2][['concat_smiles','DGsolv','m062x','DGsolv_qm','AE_m062x','AE_cosmo']].head(n=10)"
   ]
  },
  {
   "cell_type": "code",
   "execution_count": null,
   "id": "6bdc386d-fb92-4412-8f84-18481981dbbc",
   "metadata": {},
   "outputs": [],
   "source": [
    "df2 = df2.sort_values(by=['AE_m062x'], ascending = False)\n",
    "#df2[df2.AE_cosmo <= 0.2][['concat_smiles','DGsolv','m062x','DGsolv_qm','AE_m062x','AE_cosmo','SE_m062x','SE_cosmo']].head(n=10)\n",
    "df2[df2.AE_cosmo <= 0.2][['concat_smiles','DGsolv','m062x','DGsolv_qm','AE_m062x','AE_cosmo','SE_m062x','SE_cosmo']].head(n=10)"
   ]
  },
  {
   "cell_type": "code",
   "execution_count": null,
   "id": "6dac7ea7-7c88-48b6-a3e0-2fdb52307b48",
   "metadata": {},
   "outputs": [],
   "source": []
  },
  {
   "cell_type": "code",
   "execution_count": null,
   "id": "f5ce1882-32b9-4b17-8209-fc9c1350fcdb",
   "metadata": {},
   "outputs": [],
   "source": [
    "#df2p = df2[(df2.AE_cosmo > df2.AE_m062x) & (df2.AAE > .2)]\n",
    "#df2pp = df2[(df2.AE_cosmo < df2.AE_m062x) & (df2.AAE > .2)]\n",
    "#df2ppp = df2[(df2.AAE < .2)]\n",
    "\n",
    "df2p = df2[ (df2.AE_m062x <= 0.2) & (df2.AE_cosmo > .2)]\n",
    "df2pp = df2[(df2.AE_cosmo <= 0.2) & (df2.AE_m062x > .2)]\n",
    "df2ppp = df2[(df2.AE_cosmo <= 0.2) & (df2.AE_m062x <= .2) ]\n",
    "df2pppp = df2[(df2.AE_cosmo > 0.2) & (df2.AE_m062x > .2) ]"
   ]
  },
  {
   "cell_type": "code",
   "execution_count": null,
   "id": "ed9b19ac-5b83-4073-bbe2-d5b9890b1793",
   "metadata": {},
   "outputs": [],
   "source": [
    "len(df2p), len(df2pp), len(df2ppp), len(df2pppp)"
   ]
  },
  {
   "cell_type": "code",
   "execution_count": null,
   "id": "2a41cce7-30c2-4939-ad22-4f52f047111c",
   "metadata": {},
   "outputs": [],
   "source": [
    "df2p['group'] = 'Group1'\n",
    "df2pp['group'] = 'Group2'\n",
    "df2ppp['group'] = 'Group3'\n",
    "df2pppp['group'] = 'Group4'\n",
    "df_groups = pd.concat([df2p,df2pp,df2ppp,df2pppp])\n",
    "df_groups"
   ]
  },
  {
   "cell_type": "code",
   "execution_count": null,
   "id": "5b75ca44-2577-4530-b9ad-d3d18d76a8bf",
   "metadata": {},
   "outputs": [],
   "source": [
    "df_groups.to_csv('expdb_group_by_m062x_cosmo_accur.csv',index=False)"
   ]
  },
  {
   "cell_type": "code",
   "execution_count": null,
   "id": "46679f42-748c-47a9-b580-2c5887f7eb18",
   "metadata": {},
   "outputs": [],
   "source": [
    "#################################"
   ]
  },
  {
   "cell_type": "code",
   "execution_count": null,
   "id": "e9af7391-898d-4a63-8257-a42c7042b414",
   "metadata": {},
   "outputs": [],
   "source": [
    "len(set(df2p.concat_smiles.unique()) & set(df2pp.concat_smiles.unique()))"
   ]
  },
  {
   "cell_type": "code",
   "execution_count": null,
   "id": "814a50e9-8d1c-4232-82be-136a46da7dbb",
   "metadata": {},
   "outputs": [],
   "source": [
    "df2p = df2p.sort_values(by=['AE_cosmo'],ascending = False)\n",
    "#df2p = df2p.sort_values(by=['AE_m062x'],ascending = True)\n",
    "#df2p[(df2p.AE_m062x < 0.2) & (df2p.AE_cosmo < 2.0)].head(n=5)\n",
    "df2p[(df2p.AE_m062x < 0.2)].head(n=10)[['concat_smiles','DGsolv','m062x','DGsolv_qm']]"
   ]
  },
  {
   "cell_type": "code",
   "execution_count": null,
   "id": "a25eff5c-a1ac-42ef-acd5-b08cca1a2776",
   "metadata": {},
   "outputs": [],
   "source": [
    "#df2pp = df2pp.sort_values(by=['AE_m062x'], ascending = False)\n",
    "#df2pp[(df2pp.AE_cosmo < 0.2) & (df2pp.AE_m062x) < 2.0].head(n=20)"
   ]
  },
  {
   "cell_type": "code",
   "execution_count": null,
   "id": "92ecac96-f62e-4a18-ba3b-79a16ca6cdb8",
   "metadata": {},
   "outputs": [],
   "source": [
    "df2p.to_csv('exp_m062x_more_accurate.csv', index = False)\n",
    "df2pp.to_csv('exp_cosmo_more_accurate.csv', index = False)"
   ]
  },
  {
   "cell_type": "code",
   "execution_count": null,
   "id": "020e0ea7-b8ee-496b-868e-60d9e42faab0",
   "metadata": {},
   "outputs": [],
   "source": [
    "from rdkit.Chem import AllChem\n",
    "df2p_solute_mols = [Chem.MolFromSmiles(smi) for smi in list(df2p.can_smiles_solute)]\n",
    "df2pp_solute_mols = [Chem.MolFromSmiles(smi) for smi in list(df2pp.can_smiles_solute)]\n",
    "df2ppp_solute_mols = [Chem.MolFromSmiles(smi) for smi in list(df2ppp.can_smiles_solute)]\n",
    "\n",
    "df2p_solvent_mols = [Chem.MolFromSmiles(smi) for smi in list(df2p.can_smiles_solvent)]\n",
    "df2pp_solvent_mols = [Chem.MolFromSmiles(smi) for smi in list(df2pp.can_smiles_solvent)]\n",
    "df2ppp_solvent_mols = [Chem.MolFromSmiles(smi) for smi in list(df2ppp.can_smiles_solvent)]"
   ]
  },
  {
   "cell_type": "code",
   "execution_count": null,
   "id": "0f12ef6d-25e6-4c49-a4b6-b58dd574a41a",
   "metadata": {},
   "outputs": [],
   "source": [
    "import matplotlib.pyplot as plt\n",
    "\n",
    "bits = [1024, 2048, 4096, 8192, 16384, 32768]\n",
    "\n",
    "unique = []\n",
    "solute_mols_all = df2p_solute_mols + df2pp_solute_mols + df2ppp_solute_mols\n",
    "for bit in bits:\n",
    "    FPs = []\n",
    "    for mol in solute_mols_all:\n",
    "        info = {}\n",
    "        FPs.append(AllChem.GetMorganFingerprintAsBitVect(mol, 2, nBits=bit, bitInfo = info, useFeatures=True))\n",
    "    unique.append(np.logical_or.reduce(FPs).sum())\n",
    "    print('haha')\n",
    "    \n",
    "fig,ax = plt.subplots()\n",
    "ax.plot(unique)\n",
    "xticks = plt.xticks(range(len(bits)),bits)\n",
    "ax.yaxis.get_major_locator().set_params(integer=True)\n",
    "\n"
   ]
  },
  {
   "cell_type": "code",
   "execution_count": null,
   "id": "ac0f2057-46b7-48cc-9330-0c03eff3ebaf",
   "metadata": {},
   "outputs": [],
   "source": [
    "solvent_mols_all = df2p_solvent_mols + df2pp_solvent_mols + df2ppp_solvent_mols\n",
    "\n",
    "FPs = []\n",
    "for i in range(len(solvent_mols_all)):\n",
    "    FPs.append( list(AllChem.GetMorganFingerprintAsBitVect(solute_mols_all[i], 2, nBits=4096, bitInfo = info, useFeatures=True)) + \\\n",
    "                list(AllChem.GetMorganFingerprintAsBitVect(solvent_mols_all[i], 2, nBits=4096, bitInfo = info, useFeatures=True))  )"
   ]
  },
  {
   "cell_type": "code",
   "execution_count": null,
   "id": "ce8fc028-e0ab-433b-a790-97b426be8f93",
   "metadata": {},
   "outputs": [],
   "source": [
    "FPs = np.array(FPs)\n",
    "FPs.shape"
   ]
  },
  {
   "cell_type": "code",
   "execution_count": null,
   "id": "10584a7c-468e-42ca-91fc-3a51362bc8c0",
   "metadata": {},
   "outputs": [],
   "source": [
    "idx = np.argwhere(np.all(FPs[..., :] == 0, axis=0))"
   ]
  },
  {
   "cell_type": "code",
   "execution_count": null,
   "id": "52a22b94-ae44-42bc-b1fe-570cece850a7",
   "metadata": {},
   "outputs": [],
   "source": [
    "FPs = np.delete(FPs, idx, axis=1)"
   ]
  },
  {
   "cell_type": "code",
   "execution_count": null,
   "id": "b65537b5-7f43-42c1-9f09-3fba3aa1e52b",
   "metadata": {},
   "outputs": [],
   "source": [
    "from sklearn.decomposition import PCA\n",
    "from sklearn.pipeline import Pipeline\n",
    "from sklearn.manifold import TSNE\n",
    "pipe = Pipeline(steps=(\n",
    "    ('PCA', PCA(n_components=10)),\n",
    "    ('TSNE', TSNE(n_components=2))\n",
    "))\n",
    "\n",
    "FPs_tsne = pipe.fit_transform(FPs[0:len(df2p)+len(df2pp)])"
   ]
  },
  {
   "cell_type": "code",
   "execution_count": null,
   "id": "c36660df-ee1b-47f7-9681-809d600192c0",
   "metadata": {},
   "outputs": [],
   "source": [
    "FPs_tsne"
   ]
  },
  {
   "cell_type": "code",
   "execution_count": null,
   "id": "ad5dcc4c-4646-4af9-9a9a-22402701336e",
   "metadata": {},
   "outputs": [],
   "source": [
    "fig = plt.figure(figsize=(5.5,5.5))\n",
    "ax = fig.add_subplot(111)\n",
    "ax.axis('equal')\n",
    "#ax.set_xticks(np.arange(0.0,240.01,40.0))\n",
    "#ax.set_yticks(np.arange(0.0,240.01,40.0))\n",
    "#ax.set_xlim([0,240])\n",
    "#ax.set_ylim([0,240])\n",
    "#ax.set_xlabel('HoV (Predicted, kJ/mol)')\n",
    "#ax.set_ylabel('HoV (NIST, kJ/mol)')\n",
    "#plt.text(5,225,'[MAE, kJ/mol]', fontdict={\"size\":16})\n",
    "\n",
    "\n",
    "ax.plot(FPs_tsne[0:len(df2p), 0], FPs_tsne[0:len(df2p), 1], \\\n",
    "        '.', ms=6, label='Training [3.33]', alpha=1.0, color='navy')\n",
    "ax.plot(FPs_tsne[len(df2p):len(df2p)+len(df2pp), 0], FPs_tsne[len(df2p):len(df2p)+len(df2pp), 1], \\\n",
    "        '.',  ms=6, label='Validation [4.21]', alpha=1.0, color='darkgreen')\n",
    "#ax.plot(FPs_tsne[len(df2p)+len(df2pp):len(df2p)+len(df2pp)+len(df2ppp), 0], FPs_tsne[len(df2p)+len(df2pp):len(df2p)+len(df2pp)+len(df2ppp), 1], \\\n",
    "#        '.',  ms=6, label='Test [4.77]', alpha=1.0, color='firebrick')\n",
    "#lgnd = ax.legend(loc='center left', bbox_to_anchor=(-0.05, .8))\n",
    "    \n",
    "#ax.plot([0,240], [0, 240], '--', color='.1')"
   ]
  },
  {
   "cell_type": "code",
   "execution_count": null,
   "id": "a189dfdc-65c3-4e88-b62c-ac3e8b7cfcaa",
   "metadata": {},
   "outputs": [],
   "source": []
  }
 ],
 "metadata": {
  "kernelspec": {
   "display_name": "Python 3 (ipykernel)",
   "language": "python",
   "name": "python3"
  },
  "language_info": {
   "codemirror_mode": {
    "name": "ipython",
    "version": 3
   },
   "file_extension": ".py",
   "mimetype": "text/x-python",
   "name": "python",
   "nbconvert_exporter": "python",
   "pygments_lexer": "ipython3",
   "version": "3.8.11"
  }
 },
 "nbformat": 4,
 "nbformat_minor": 5
}
