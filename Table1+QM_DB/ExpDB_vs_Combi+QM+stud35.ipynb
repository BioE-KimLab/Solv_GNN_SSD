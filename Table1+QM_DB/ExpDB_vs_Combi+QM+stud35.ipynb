{
 "cells": [
  {
   "cell_type": "code",
   "execution_count": 1,
   "id": "consecutive-marathon",
   "metadata": {},
   "outputs": [],
   "source": [
    "import pandas as pd\n",
    "import numpy as np\n",
    "df_35 = pd.read_csv('student35.csv')\n",
    "df_combi_exp_ol = pd.read_csv('expdb_combisolvqm_overlapped.csv')\n",
    "df_qm_exp_ol = pd.read_csv('expdb_qmdb_overlapped.csv')"
   ]
  },
  {
   "cell_type": "code",
   "execution_count": 2,
   "id": "indoor-declaration",
   "metadata": {},
   "outputs": [
    {
     "name": "stderr",
     "output_type": "stream",
     "text": [
      "/Users/kyj/opt/anaconda3/envs/ykim/lib/python3.7/site-packages/ipykernel_launcher.py:2: SettingWithCopyWarning: \n",
      "A value is trying to be set on a copy of a slice from a DataFrame.\n",
      "Try using .loc[row_indexer,col_indexer] = value instead\n",
      "\n",
      "See the caveats in the documentation: https://pandas.pydata.org/pandas-docs/stable/user_guide/indexing.html#returning-a-view-versus-a-copy\n",
      "  \n"
     ]
    }
   ],
   "source": [
    "df_35_exp = df_35[df_35.Exp_or_QM == 'Exp']\n",
    "df_35_exp['concat_smiles'] = df_35_exp['can_smiles_solute'] + '.' + df_35_exp['can_smiles_solvent']"
   ]
  },
  {
   "cell_type": "code",
   "execution_count": 3,
   "id": "portable-tradition",
   "metadata": {},
   "outputs": [],
   "source": [
    "df_combi_exp_ol_35 = df_35_exp[df_35_exp.concat_smiles.isin(list(df_combi_exp_ol.concat_smiles))]\n",
    "df_qm_exp_ol_35 = df_35_exp[df_35_exp.concat_smiles.isin(list(df_qm_exp_ol.concat_smiles))]"
   ]
  },
  {
   "cell_type": "code",
   "execution_count": 4,
   "id": "coordinate-stable",
   "metadata": {},
   "outputs": [],
   "source": [
    "df_combi_exp_ol = df_combi_exp_ol.sort_values(by=['concat_smiles'])\n",
    "df_combi_exp_ol_35 = df_combi_exp_ol_35.sort_values(by=['concat_smiles'])\n",
    "\n",
    "df_qm_exp_ol = df_qm_exp_ol.sort_values(by=['concat_smiles'])\n",
    "df_qm_exp_ol_35 = df_qm_exp_ol_35.sort_values(by=['concat_smiles'])"
   ]
  },
  {
   "cell_type": "code",
   "execution_count": 5,
   "id": "middle-burlington",
   "metadata": {},
   "outputs": [
    {
     "data": {
      "text/plain": [
       "(True, True)"
      ]
     },
     "execution_count": 5,
     "metadata": {},
     "output_type": "execute_result"
    }
   ],
   "source": [
    "list(df_combi_exp_ol.concat_smiles) == list(df_combi_exp_ol_35.concat_smiles), \\\n",
    "list(df_qm_exp_ol.concat_smiles) == list(df_qm_exp_ol_35.concat_smiles)"
   ]
  },
  {
   "cell_type": "code",
   "execution_count": 6,
   "id": "refined-confidentiality",
   "metadata": {},
   "outputs": [],
   "source": [
    "df_combi_exp_ol['stud35'] = list(df_combi_exp_ol_35['predicted'])\n",
    "df_qm_exp_ol['stud35'] = list(df_qm_exp_ol_35['predicted'])"
   ]
  },
  {
   "cell_type": "code",
   "execution_count": 7,
   "id": "published-calcium",
   "metadata": {},
   "outputs": [],
   "source": [
    "df_combi_exp_ol['Train/Valid/Test'] = list(df_combi_exp_ol_35['Train/Valid/Test'])\n",
    "df_qm_exp_ol['Train/Valid/Test'] = list(df_qm_exp_ol_35['Train/Valid/Test'])"
   ]
  },
  {
   "cell_type": "code",
   "execution_count": 8,
   "id": "acute-tiffany",
   "metadata": {},
   "outputs": [],
   "source": [
    "df_combi_exp_ol['AE_stud35'] = np.abs(df_combi_exp_ol.stud35 - df_combi_exp_ol.DGsolv)\n",
    "df_combi_exp_ol['SE_stud35'] = (df_combi_exp_ol.stud35 - df_combi_exp_ol.DGsolv) ** 2.0\n",
    "\n",
    "df_qm_exp_ol['AE_stud35'] = np.abs(df_qm_exp_ol.stud35 - df_qm_exp_ol.DGsolv)\n",
    "df_qm_exp_ol['SE_stud35'] = (df_qm_exp_ol.stud35 - df_qm_exp_ol.DGsolv) ** 2.0"
   ]
  },
  {
   "cell_type": "code",
   "execution_count": 9,
   "id": "agricultural-reynolds",
   "metadata": {},
   "outputs": [
    {
     "data": {
      "text/plain": [
       "(0.15098490186508912, 0.29892944436075336)"
      ]
     },
     "execution_count": 9,
     "metadata": {},
     "output_type": "execute_result"
    }
   ],
   "source": [
    "df_combi_exp_ol.AE_stud35.mean(), np.sqrt(df_combi_exp_ol.SE_stud35.mean())"
   ]
  },
  {
   "cell_type": "code",
   "execution_count": 10,
   "id": "visible-prophet",
   "metadata": {},
   "outputs": [
    {
     "data": {
      "text/plain": [
       "Train    2651\n",
       "Test      317\n",
       "Valid     286\n",
       "Name: Train/Valid/Test, dtype: int64"
      ]
     },
     "execution_count": 10,
     "metadata": {},
     "output_type": "execute_result"
    }
   ],
   "source": [
    "df_combi_exp_ol['Train/Valid/Test'].value_counts()"
   ]
  },
  {
   "cell_type": "code",
   "execution_count": 11,
   "id": "graphic-alliance",
   "metadata": {},
   "outputs": [
    {
     "data": {
      "text/plain": [
       "('Train MAE/RMSE',\n",
       " 0.13036656619917011,\n",
       " 0.23264968647109407,\n",
       " 'Valid MAE/RMSE',\n",
       " 0.26301878148601393,\n",
       " 0.5891601995054875,\n",
       " 'Test MAE/RMSE',\n",
       " 0.22233353996845423,\n",
       " 0.3891772920907694)"
      ]
     },
     "execution_count": 11,
     "metadata": {},
     "output_type": "execute_result"
    }
   ],
   "source": [
    "'Train MAE/RMSE', \\\n",
    "df_combi_exp_ol[df_combi_exp_ol['Train/Valid/Test'] == 'Train'].AE_stud35.mean(), \\\n",
    "np.sqrt(df_combi_exp_ol[df_combi_exp_ol['Train/Valid/Test'] == 'Train'].SE_stud35.mean()), \\\n",
    "'Valid MAE/RMSE', \\\n",
    "df_combi_exp_ol[df_combi_exp_ol['Train/Valid/Test'] == 'Valid'].AE_stud35.mean(), \\\n",
    "np.sqrt(df_combi_exp_ol[df_combi_exp_ol['Train/Valid/Test'] == 'Valid'].SE_stud35.mean()), \\\n",
    "'Test MAE/RMSE', \\\n",
    "df_combi_exp_ol[df_combi_exp_ol['Train/Valid/Test'] == 'Test'].AE_stud35.mean(), \\\n",
    "np.sqrt(df_combi_exp_ol[df_combi_exp_ol['Train/Valid/Test'] == 'Test'].SE_stud35.mean()), "
   ]
  },
  {
   "cell_type": "code",
   "execution_count": 12,
   "id": "vulnerable-strain",
   "metadata": {},
   "outputs": [
    {
     "data": {
      "text/plain": [
       "(0.14497320002740133, 0.2502617343873564)"
      ]
     },
     "execution_count": 12,
     "metadata": {},
     "output_type": "execute_result"
    }
   ],
   "source": [
    "df_qm_exp_ol.AE_stud35.mean(), np.sqrt(df_qm_exp_ol.SE_stud35.mean())"
   ]
  },
  {
   "cell_type": "code",
   "execution_count": 13,
   "id": "perceived-diving",
   "metadata": {},
   "outputs": [
    {
     "data": {
      "text/plain": [
       "Train    4534\n",
       "Test      576\n",
       "Valid     498\n",
       "Name: Train/Valid/Test, dtype: int64"
      ]
     },
     "execution_count": 13,
     "metadata": {},
     "output_type": "execute_result"
    }
   ],
   "source": [
    "df_qm_exp_ol['Train/Valid/Test'].value_counts()"
   ]
  },
  {
   "cell_type": "code",
   "execution_count": 14,
   "id": "painted-samuel",
   "metadata": {},
   "outputs": [
    {
     "data": {
      "text/plain": [
       "('Train MAE/RMSE',\n",
       " 0.127373668166005,\n",
       " 0.19529278318929427,\n",
       " 'Valid MAE/RMSE',\n",
       " 0.21427366346385543,\n",
       " 0.42310008199999954,\n",
       " 'Test MAE/RMSE',\n",
       " 0.22359237827083334,\n",
       " 0.39344017704126355)"
      ]
     },
     "execution_count": 14,
     "metadata": {},
     "output_type": "execute_result"
    }
   ],
   "source": [
    "'Train MAE/RMSE', \\\n",
    "df_qm_exp_ol[df_qm_exp_ol['Train/Valid/Test'] == 'Train'].AE_stud35.mean(), \\\n",
    "np.sqrt(df_qm_exp_ol[df_qm_exp_ol['Train/Valid/Test'] == 'Train'].SE_stud35.mean()), \\\n",
    "'Valid MAE/RMSE', \\\n",
    "df_qm_exp_ol[df_qm_exp_ol['Train/Valid/Test'] == 'Valid'].AE_stud35.mean(), \\\n",
    "np.sqrt(df_qm_exp_ol[df_qm_exp_ol['Train/Valid/Test'] == 'Valid'].SE_stud35.mean()), \\\n",
    "'Test MAE/RMSE', \\\n",
    "df_qm_exp_ol[df_qm_exp_ol['Train/Valid/Test'] == 'Test'].AE_stud35.mean(), \\\n",
    "np.sqrt(df_qm_exp_ol[df_qm_exp_ol['Train/Valid/Test'] == 'Test'].SE_stud35.mean()), "
   ]
  },
  {
   "cell_type": "code",
   "execution_count": 15,
   "id": "italic-fitting",
   "metadata": {},
   "outputs": [
    {
     "data": {
      "text/html": [
       "<div>\n",
       "<style scoped>\n",
       "    .dataframe tbody tr th:only-of-type {\n",
       "        vertical-align: middle;\n",
       "    }\n",
       "\n",
       "    .dataframe tbody tr th {\n",
       "        vertical-align: top;\n",
       "    }\n",
       "\n",
       "    .dataframe thead th {\n",
       "        text-align: right;\n",
       "    }\n",
       "</style>\n",
       "<table border=\"1\" class=\"dataframe\">\n",
       "  <thead>\n",
       "    <tr style=\"text-align: right;\">\n",
       "      <th></th>\n",
       "      <th>solute</th>\n",
       "      <th>solvent</th>\n",
       "      <th>logS</th>\n",
       "      <th>DGsolv</th>\n",
       "      <th>Reference (DOI)</th>\n",
       "      <th>Comments</th>\n",
       "      <th>can_smiles_solute</th>\n",
       "      <th>can_smiles_solvent</th>\n",
       "      <th>concat_smiles</th>\n",
       "      <th>is_chonps_halogens</th>\n",
       "      <th>index</th>\n",
       "      <th>solvent_iupac_name</th>\n",
       "      <th>m062x</th>\n",
       "      <th>AE</th>\n",
       "      <th>SE</th>\n",
       "      <th>stud35</th>\n",
       "      <th>Train/Valid/Test</th>\n",
       "      <th>AE_stud35</th>\n",
       "      <th>SE_stud35</th>\n",
       "    </tr>\n",
       "  </thead>\n",
       "  <tbody>\n",
       "    <tr>\n",
       "      <th>4911</th>\n",
       "      <td>Br</td>\n",
       "      <td>CCCCCCCC</td>\n",
       "      <td>NaN</td>\n",
       "      <td>-1.110</td>\n",
       "      <td>10.1016/j.cej.2021.129307</td>\n",
       "      <td>['CompSol Binary (entry number=54328)']</td>\n",
       "      <td>Br</td>\n",
       "      <td>CCCCCCCC</td>\n",
       "      <td>Br.CCCCCCCC</td>\n",
       "      <td>True</td>\n",
       "      <td>5</td>\n",
       "      <td>n-Octane</td>\n",
       "      <td>-2.26</td>\n",
       "      <td>1.150</td>\n",
       "      <td>1.322500</td>\n",
       "      <td>-1.018894</td>\n",
       "      <td>Train</td>\n",
       "      <td>0.091106</td>\n",
       "      <td>0.008300</td>\n",
       "    </tr>\n",
       "    <tr>\n",
       "      <th>4901</th>\n",
       "      <td>Br</td>\n",
       "      <td>CCCCCCCCCC</td>\n",
       "      <td>NaN</td>\n",
       "      <td>-1.090</td>\n",
       "      <td>10.1016/j.cej.2021.129307</td>\n",
       "      <td>['CompSol Binary (entry number=37100)']</td>\n",
       "      <td>Br</td>\n",
       "      <td>CCCCCCCCCC</td>\n",
       "      <td>Br.CCCCCCCCCC</td>\n",
       "      <td>True</td>\n",
       "      <td>6</td>\n",
       "      <td>n-Decane</td>\n",
       "      <td>-2.22</td>\n",
       "      <td>1.130</td>\n",
       "      <td>1.276900</td>\n",
       "      <td>-1.046617</td>\n",
       "      <td>Train</td>\n",
       "      <td>0.043383</td>\n",
       "      <td>0.001882</td>\n",
       "    </tr>\n",
       "    <tr>\n",
       "      <th>2971</th>\n",
       "      <td>BrC(Br)Br</td>\n",
       "      <td>BrC(Br)Br</td>\n",
       "      <td>NaN</td>\n",
       "      <td>-6.230</td>\n",
       "      <td>10.13020/3eks-j059 Compsol pure</td>\n",
       "      <td>Averaged - std : 0.02</td>\n",
       "      <td>BrC(Br)Br</td>\n",
       "      <td>BrC(Br)Br</td>\n",
       "      <td>BrC(Br)Br.BrC(Br)Br</td>\n",
       "      <td>True</td>\n",
       "      <td>11</td>\n",
       "      <td>Bromoform</td>\n",
       "      <td>-5.74</td>\n",
       "      <td>0.490</td>\n",
       "      <td>0.240100</td>\n",
       "      <td>-6.169349</td>\n",
       "      <td>Train</td>\n",
       "      <td>0.060651</td>\n",
       "      <td>0.003679</td>\n",
       "    </tr>\n",
       "    <tr>\n",
       "      <th>4539</th>\n",
       "      <td>BrC(Br)Br</td>\n",
       "      <td>CCCCC</td>\n",
       "      <td>NaN</td>\n",
       "      <td>-4.830</td>\n",
       "      <td>10.13020/3eks-j059</td>\n",
       "      <td>From Minnesota Solvation Database (MNSOL) vers...</td>\n",
       "      <td>BrC(Br)Br</td>\n",
       "      <td>CCCCC</td>\n",
       "      <td>BrC(Br)Br.CCCCC</td>\n",
       "      <td>True</td>\n",
       "      <td>12</td>\n",
       "      <td>n-Pentane</td>\n",
       "      <td>-5.73</td>\n",
       "      <td>0.900</td>\n",
       "      <td>0.810000</td>\n",
       "      <td>-5.187200</td>\n",
       "      <td>Valid</td>\n",
       "      <td>0.357200</td>\n",
       "      <td>0.127592</td>\n",
       "    </tr>\n",
       "    <tr>\n",
       "      <th>1129</th>\n",
       "      <td>BrC(Br)Br</td>\n",
       "      <td>CCCCCCCCCCCCCCCC</td>\n",
       "      <td>NaN</td>\n",
       "      <td>-5.160</td>\n",
       "      <td>10.13020/3eks-j059</td>\n",
       "      <td>From Minnesota Solvation Database (MNSOL) vers...</td>\n",
       "      <td>BrC(Br)Br</td>\n",
       "      <td>CCCCCCCCCCCCCCCC</td>\n",
       "      <td>BrC(Br)Br.CCCCCCCCCCCCCCCC</td>\n",
       "      <td>True</td>\n",
       "      <td>15</td>\n",
       "      <td>n-Hexadecane</td>\n",
       "      <td>-5.33</td>\n",
       "      <td>0.170</td>\n",
       "      <td>0.028900</td>\n",
       "      <td>-4.995274</td>\n",
       "      <td>Train</td>\n",
       "      <td>0.164726</td>\n",
       "      <td>0.027134</td>\n",
       "    </tr>\n",
       "    <tr>\n",
       "      <th>...</th>\n",
       "      <td>...</td>\n",
       "      <td>...</td>\n",
       "      <td>...</td>\n",
       "      <td>...</td>\n",
       "      <td>...</td>\n",
       "      <td>...</td>\n",
       "      <td>...</td>\n",
       "      <td>...</td>\n",
       "      <td>...</td>\n",
       "      <td>...</td>\n",
       "      <td>...</td>\n",
       "      <td>...</td>\n",
       "      <td>...</td>\n",
       "      <td>...</td>\n",
       "      <td>...</td>\n",
       "      <td>...</td>\n",
       "      <td>...</td>\n",
       "      <td>...</td>\n",
       "      <td>...</td>\n",
       "    </tr>\n",
       "    <tr>\n",
       "      <th>1276</th>\n",
       "      <td>C1=CSC=C1</td>\n",
       "      <td>CCCO</td>\n",
       "      <td>NaN</td>\n",
       "      <td>-3.710</td>\n",
       "      <td>10.1016/j.cej.2021.129307</td>\n",
       "      <td>['Abraham Paper (A12)', 'Abraham Paper (A2)']</td>\n",
       "      <td>c1ccsc1</td>\n",
       "      <td>CCCO</td>\n",
       "      <td>c1ccsc1.CCCO</td>\n",
       "      <td>True</td>\n",
       "      <td>23574</td>\n",
       "      <td>1-Propanol</td>\n",
       "      <td>-3.90</td>\n",
       "      <td>0.190</td>\n",
       "      <td>0.036100</td>\n",
       "      <td>-4.218113</td>\n",
       "      <td>Train</td>\n",
       "      <td>0.508113</td>\n",
       "      <td>0.258178</td>\n",
       "    </tr>\n",
       "    <tr>\n",
       "      <th>2294</th>\n",
       "      <td>s1cccc1</td>\n",
       "      <td>O</td>\n",
       "      <td>NaN</td>\n",
       "      <td>-1.405</td>\n",
       "      <td>10.13020/3eks-j059 10.1016/j.cej.2021.129307</td>\n",
       "      <td>Averaged - std : 0.02</td>\n",
       "      <td>c1ccsc1</td>\n",
       "      <td>O</td>\n",
       "      <td>c1ccsc1.O</td>\n",
       "      <td>True</td>\n",
       "      <td>23578</td>\n",
       "      <td>Water</td>\n",
       "      <td>-1.05</td>\n",
       "      <td>0.355</td>\n",
       "      <td>0.126025</td>\n",
       "      <td>-1.661735</td>\n",
       "      <td>Train</td>\n",
       "      <td>0.256735</td>\n",
       "      <td>0.065913</td>\n",
       "    </tr>\n",
       "    <tr>\n",
       "      <th>4330</th>\n",
       "      <td>C1=CSC=C1</td>\n",
       "      <td>C1=CC=CC=C1</td>\n",
       "      <td>NaN</td>\n",
       "      <td>-4.650</td>\n",
       "      <td>10.1016/j.cej.2021.129307</td>\n",
       "      <td>['CompSol Binary (entry number=33488)', 'CompS...</td>\n",
       "      <td>c1ccsc1</td>\n",
       "      <td>c1ccccc1</td>\n",
       "      <td>c1ccsc1.c1ccccc1</td>\n",
       "      <td>True</td>\n",
       "      <td>23580</td>\n",
       "      <td>Benzene</td>\n",
       "      <td>-3.82</td>\n",
       "      <td>0.830</td>\n",
       "      <td>0.688900</td>\n",
       "      <td>-4.741804</td>\n",
       "      <td>Train</td>\n",
       "      <td>0.091804</td>\n",
       "      <td>0.008428</td>\n",
       "    </tr>\n",
       "    <tr>\n",
       "      <th>4606</th>\n",
       "      <td>s1cccc1</td>\n",
       "      <td>s1cccc1</td>\n",
       "      <td>NaN</td>\n",
       "      <td>-4.740</td>\n",
       "      <td>Compsol pure</td>\n",
       "      <td>solute-solvent same</td>\n",
       "      <td>c1ccsc1</td>\n",
       "      <td>c1ccsc1</td>\n",
       "      <td>c1ccsc1.c1ccsc1</td>\n",
       "      <td>True</td>\n",
       "      <td>23581</td>\n",
       "      <td>Thiophene</td>\n",
       "      <td>-3.81</td>\n",
       "      <td>0.930</td>\n",
       "      <td>0.864900</td>\n",
       "      <td>-4.898016</td>\n",
       "      <td>Test</td>\n",
       "      <td>0.158016</td>\n",
       "      <td>0.024969</td>\n",
       "    </tr>\n",
       "    <tr>\n",
       "      <th>1686</th>\n",
       "      <td>C1=NC=NN1</td>\n",
       "      <td>O</td>\n",
       "      <td>NaN</td>\n",
       "      <td>-11.620</td>\n",
       "      <td>10.1016/j.cej.2021.129307</td>\n",
       "      <td>['Abraham Paper (A3)']</td>\n",
       "      <td>c1nc[nH]n1</td>\n",
       "      <td>O</td>\n",
       "      <td>c1nc[nH]n1.O</td>\n",
       "      <td>True</td>\n",
       "      <td>23600</td>\n",
       "      <td>Water</td>\n",
       "      <td>-11.37</td>\n",
       "      <td>0.250</td>\n",
       "      <td>0.062500</td>\n",
       "      <td>-11.860771</td>\n",
       "      <td>Train</td>\n",
       "      <td>0.240771</td>\n",
       "      <td>0.057971</td>\n",
       "    </tr>\n",
       "  </tbody>\n",
       "</table>\n",
       "<p>5608 rows × 19 columns</p>\n",
       "</div>"
      ],
      "text/plain": [
       "         solute           solvent  logS  DGsolv  \\\n",
       "4911         Br          CCCCCCCC   NaN  -1.110   \n",
       "4901         Br        CCCCCCCCCC   NaN  -1.090   \n",
       "2971  BrC(Br)Br         BrC(Br)Br   NaN  -6.230   \n",
       "4539  BrC(Br)Br             CCCCC   NaN  -4.830   \n",
       "1129  BrC(Br)Br  CCCCCCCCCCCCCCCC   NaN  -5.160   \n",
       "...         ...               ...   ...     ...   \n",
       "1276  C1=CSC=C1              CCCO   NaN  -3.710   \n",
       "2294    s1cccc1                 O   NaN  -1.405   \n",
       "4330  C1=CSC=C1       C1=CC=CC=C1   NaN  -4.650   \n",
       "4606    s1cccc1           s1cccc1   NaN  -4.740   \n",
       "1686  C1=NC=NN1                 O   NaN -11.620   \n",
       "\n",
       "                                   Reference (DOI)  \\\n",
       "4911                     10.1016/j.cej.2021.129307   \n",
       "4901                     10.1016/j.cej.2021.129307   \n",
       "2971               10.13020/3eks-j059 Compsol pure   \n",
       "4539                            10.13020/3eks-j059   \n",
       "1129                            10.13020/3eks-j059   \n",
       "...                                            ...   \n",
       "1276                     10.1016/j.cej.2021.129307   \n",
       "2294  10.13020/3eks-j059 10.1016/j.cej.2021.129307   \n",
       "4330                     10.1016/j.cej.2021.129307   \n",
       "4606                                  Compsol pure   \n",
       "1686                     10.1016/j.cej.2021.129307   \n",
       "\n",
       "                                               Comments can_smiles_solute  \\\n",
       "4911            ['CompSol Binary (entry number=54328)']                Br   \n",
       "4901            ['CompSol Binary (entry number=37100)']                Br   \n",
       "2971                              Averaged - std : 0.02         BrC(Br)Br   \n",
       "4539  From Minnesota Solvation Database (MNSOL) vers...         BrC(Br)Br   \n",
       "1129  From Minnesota Solvation Database (MNSOL) vers...         BrC(Br)Br   \n",
       "...                                                 ...               ...   \n",
       "1276      ['Abraham Paper (A12)', 'Abraham Paper (A2)']           c1ccsc1   \n",
       "2294                              Averaged - std : 0.02           c1ccsc1   \n",
       "4330  ['CompSol Binary (entry number=33488)', 'CompS...           c1ccsc1   \n",
       "4606                                solute-solvent same           c1ccsc1   \n",
       "1686                             ['Abraham Paper (A3)']        c1nc[nH]n1   \n",
       "\n",
       "     can_smiles_solvent               concat_smiles  is_chonps_halogens  \\\n",
       "4911           CCCCCCCC                 Br.CCCCCCCC                True   \n",
       "4901         CCCCCCCCCC               Br.CCCCCCCCCC                True   \n",
       "2971          BrC(Br)Br         BrC(Br)Br.BrC(Br)Br                True   \n",
       "4539              CCCCC             BrC(Br)Br.CCCCC                True   \n",
       "1129   CCCCCCCCCCCCCCCC  BrC(Br)Br.CCCCCCCCCCCCCCCC                True   \n",
       "...                 ...                         ...                 ...   \n",
       "1276               CCCO                c1ccsc1.CCCO                True   \n",
       "2294                  O                   c1ccsc1.O                True   \n",
       "4330           c1ccccc1            c1ccsc1.c1ccccc1                True   \n",
       "4606            c1ccsc1             c1ccsc1.c1ccsc1                True   \n",
       "1686                  O                c1nc[nH]n1.O                True   \n",
       "\n",
       "      index solvent_iupac_name  m062x     AE        SE     stud35  \\\n",
       "4911      5           n-Octane  -2.26  1.150  1.322500  -1.018894   \n",
       "4901      6           n-Decane  -2.22  1.130  1.276900  -1.046617   \n",
       "2971     11          Bromoform  -5.74  0.490  0.240100  -6.169349   \n",
       "4539     12          n-Pentane  -5.73  0.900  0.810000  -5.187200   \n",
       "1129     15       n-Hexadecane  -5.33  0.170  0.028900  -4.995274   \n",
       "...     ...                ...    ...    ...       ...        ...   \n",
       "1276  23574         1-Propanol  -3.90  0.190  0.036100  -4.218113   \n",
       "2294  23578              Water  -1.05  0.355  0.126025  -1.661735   \n",
       "4330  23580            Benzene  -3.82  0.830  0.688900  -4.741804   \n",
       "4606  23581          Thiophene  -3.81  0.930  0.864900  -4.898016   \n",
       "1686  23600              Water -11.37  0.250  0.062500 -11.860771   \n",
       "\n",
       "     Train/Valid/Test  AE_stud35  SE_stud35  \n",
       "4911            Train   0.091106   0.008300  \n",
       "4901            Train   0.043383   0.001882  \n",
       "2971            Train   0.060651   0.003679  \n",
       "4539            Valid   0.357200   0.127592  \n",
       "1129            Train   0.164726   0.027134  \n",
       "...               ...        ...        ...  \n",
       "1276            Train   0.508113   0.258178  \n",
       "2294            Train   0.256735   0.065913  \n",
       "4330            Train   0.091804   0.008428  \n",
       "4606             Test   0.158016   0.024969  \n",
       "1686            Train   0.240771   0.057971  \n",
       "\n",
       "[5608 rows x 19 columns]"
      ]
     },
     "execution_count": 15,
     "metadata": {},
     "output_type": "execute_result"
    }
   ],
   "source": [
    "df_qm_exp_ol"
   ]
  },
  {
   "cell_type": "code",
   "execution_count": 16,
   "id": "rough-organ",
   "metadata": {},
   "outputs": [],
   "source": [
    "df_qm_combisolvqm_ol = pd.read_csv('qmdb_combisolvqm_overlap_all.csv')"
   ]
  },
  {
   "cell_type": "code",
   "execution_count": 17,
   "id": "nearby-midwest",
   "metadata": {},
   "outputs": [],
   "source": [
    "df_qm_combisolvqm_ol['concat_smiles'] = df_qm_combisolvqm_ol['can_smiles_solute'] + '.' + df_qm_combisolvqm_ol['can_smiles_solvent']"
   ]
  },
  {
   "cell_type": "code",
   "execution_count": 18,
   "id": "suited-delta",
   "metadata": {},
   "outputs": [
    {
     "data": {
      "text/plain": [
       "220332"
      ]
     },
     "execution_count": 18,
     "metadata": {},
     "output_type": "execute_result"
    }
   ],
   "source": [
    "len(set(list(df_qm_combisolvqm_ol.concat_smiles) + list(df_qm_exp_ol.concat_smiles)))"
   ]
  },
  {
   "cell_type": "code",
   "execution_count": 19,
   "id": "legal-condition",
   "metadata": {},
   "outputs": [
    {
     "data": {
      "text/plain": [
       "214724"
      ]
     },
     "execution_count": 19,
     "metadata": {},
     "output_type": "execute_result"
    }
   ],
   "source": [
    "220332 - 5608"
   ]
  },
  {
   "cell_type": "code",
   "execution_count": null,
   "id": "prime-apple",
   "metadata": {},
   "outputs": [],
   "source": []
  }
 ],
 "metadata": {
  "kernelspec": {
   "display_name": "Python 3 (ipykernel)",
   "language": "python",
   "name": "python3"
  },
  "language_info": {
   "codemirror_mode": {
    "name": "ipython",
    "version": 3
   },
   "file_extension": ".py",
   "mimetype": "text/x-python",
   "name": "python",
   "nbconvert_exporter": "python",
   "pygments_lexer": "ipython3",
   "version": "3.8.18"
  }
 },
 "nbformat": 4,
 "nbformat_minor": 5
}
